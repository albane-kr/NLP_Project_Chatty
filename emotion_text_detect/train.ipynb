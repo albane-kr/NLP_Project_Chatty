{
 "cells": [
  {
   "cell_type": "markdown",
   "metadata": {},
   "source": [
    "# Training notebook"
   ]
  },
  {
   "cell_type": "code",
   "execution_count": 40,
   "metadata": {},
   "outputs": [],
   "source": [
    "import os\n",
    "os.environ['KMP_DUPLICATE_LIB_OK'] = 'TRUE'\n",
    "from datasets import load_dataset, DatasetDict\n",
    "from transformers import BertTokenizer, BertForSequenceClassification, AdamW, get_scheduler\n",
    "from torch.utils.data import DataLoader, TensorDataset\n",
    "from torch.utils.data.dataloader import default_collate\n",
    "import torch.nn as nn\n",
    "from tqdm import tqdm\n",
    "import torch\n",
    "import pandas as pd"
   ]
  },
  {
   "cell_type": "markdown",
   "metadata": {},
   "source": [
    "Read from the .csv file, remove all non string and non space characters"
   ]
  },
  {
   "cell_type": "code",
   "execution_count": 41,
   "metadata": {},
   "outputs": [],
   "source": [
    "# Load the dataset\n",
    "df = pd.read_csv('./emotions.csv')\n",
    "\n",
    "# Preprocess the text data (e.g., lowercasing, removing punctuation)\n",
    "df['text'] = df['text'].str.lower().str.replace('[^\\w\\s]', '')\n"
   ]
  },
  {
   "cell_type": "markdown",
   "metadata": {},
   "source": [
    "Initialize Word2Vec, tokenize sentences"
   ]
  },
  {
   "cell_type": "code",
   "execution_count": 42,
   "metadata": {},
   "outputs": [],
   "source": [
    "from gensim.models import Word2Vec\n",
    "\n",
    "# Tokenize the text data\n",
    "sentences = [text.split() for text in df['text']]\n",
    "\n",
    "# Train the Word2Vec model\n",
    "word2vec_model = Word2Vec(sentences, vector_size=100, window=5, min_count=1, workers=4)"
   ]
  },
  {
   "cell_type": "markdown",
   "metadata": {},
   "source": [
    "Convert sentences to vectors"
   ]
  },
  {
   "cell_type": "code",
   "execution_count": 43,
   "metadata": {},
   "outputs": [],
   "source": [
    "import numpy as np\n",
    "\n",
    "def sentence_to_vector(sentence, model):\n",
    "    words = sentence.split()\n",
    "    word_vectors = [model.wv[word] for word in words if word in model.wv]\n",
    "    if len(word_vectors) == 0:\n",
    "        return np.zeros(model.vector_size)\n",
    "    return np.mean(word_vectors, axis=0)\n",
    "\n",
    "# Apply the function to the dataset\n",
    "df['vector'] = df['text'].apply(lambda x: sentence_to_vector(x, word2vec_model))"
   ]
  },
  {
   "cell_type": "markdown",
   "metadata": {},
   "source": [
    "Convert vectors to tensors"
   ]
  },
  {
   "cell_type": "code",
   "execution_count": 44,
   "metadata": {},
   "outputs": [],
   "source": [
    "from sklearn.model_selection import train_test_split\n",
    "\n",
    "# Split the dataset\n",
    "train_df, val_df = train_test_split(df, test_size=0.2, random_state=42)\n",
    "# Convert vectors and labels to tensors\n",
    "X_train = torch.tensor(np.stack(train_df['vector'].values))\n",
    "y_train = torch.tensor(train_df['label'].values)\n",
    "X_val = torch.tensor(np.stack(val_df['vector'].values))\n",
    "y_val = torch.tensor(val_df['label'].values)\n",
    "# Create a TensorDataset and DataLoader\n",
    "train_dataset = TensorDataset(X_train, y_train)\n",
    "val_dataset = TensorDataset(X_val, y_val)\n",
    "train_dataloader = DataLoader(train_dataset, batch_size=16, shuffle=True)\n",
    "val_dataloader = DataLoader(val_dataset, batch_size=16)"
   ]
  },
  {
   "cell_type": "markdown",
   "metadata": {},
   "source": [
    "Create ML model, move data to computing device (GPU or CPU, train model)"
   ]
  },
  {
   "cell_type": "code",
   "execution_count": 45,
   "metadata": {},
   "outputs": [],
   "source": [
    "def save_checkpoint(state, filename=\"best_model.pth.tar\"):\n",
    "    torch.save(state, filename)"
   ]
  },
  {
   "cell_type": "code",
   "execution_count": 46,
   "metadata": {},
   "outputs": [
    {
     "name": "stdout",
     "output_type": "stream",
     "text": [
      "cuda\n",
      "Epoch 1/50, Loss: 0.8998445027724632\n",
      "Epoch 2/50, Loss: 0.8438431063555775\n",
      "Epoch 3/50, Loss: 0.8337533130335318\n",
      "Epoch 4/50, Loss: 0.8145224944835111\n",
      "Epoch 5/50, Loss: 0.7945458711629133\n",
      "Epoch 6/50, Loss: 0.7844093910358936\n",
      "Epoch 7/50, Loss: 0.7830276697147741\n",
      "Epoch 8/50, Loss: 0.7674169833452865\n",
      "Epoch 9/50, Loss: 0.7697741696677174\n",
      "Epoch 10/50, Loss: 0.7644101192227848\n",
      "Epoch 11/50, Loss: 0.7631123577037441\n",
      "Epoch 12/50, Loss: 0.7525854059188523\n",
      "Epoch 13/50, Loss: 0.7982363381539762\n",
      "Epoch 14/50, Loss: 0.7528124732932072\n",
      "Epoch 15/50, Loss: 0.7934724068491822\n",
      "Epoch 16/50, Loss: 0.7475995855948171\n",
      "Epoch 17/50, Loss: 0.7355874576385134\n",
      "Epoch 18/50, Loss: 0.748467768612349\n",
      "Epoch 19/50, Loss: 0.7284003380529483\n",
      "Epoch 20/50, Loss: 0.7377614253365908\n",
      "Epoch 21/50, Loss: 0.7279405592327909\n",
      "Epoch 22/50, Loss: 0.7325739142156292\n",
      "Epoch 23/50, Loss: 0.754358298300187\n",
      "Epoch 24/50, Loss: 0.7259057931354649\n",
      "Epoch 25/50, Loss: 0.7225862524058078\n",
      "Epoch 26/50, Loss: 0.7274578026991114\n",
      "Epoch 27/50, Loss: 0.7253903424818762\n",
      "Epoch 28/50, Loss: 0.7274743751266185\n",
      "Epoch 29/50, Loss: 0.724087898838408\n",
      "Epoch 30/50, Loss: 0.7172113202127653\n",
      "Epoch 31/50, Loss: 0.7227969494005055\n",
      "Epoch 32/50, Loss: 0.7267690956180783\n",
      "Epoch 33/50, Loss: 0.717415343265894\n",
      "Epoch 34/50, Loss: 0.7254460375749592\n",
      "Epoch 35/50, Loss: 0.7164326223198592\n",
      "Epoch 36/50, Loss: 0.7259669650015047\n",
      "Epoch 37/50, Loss: 0.7326895167721917\n",
      "Epoch 38/50, Loss: 0.7150149736557005\n",
      "Epoch 39/50, Loss: 0.7201122398286446\n",
      "Epoch 40/50, Loss: 0.7100396047762181\n",
      "Epoch 41/50, Loss: 0.7142326133098719\n",
      "Epoch 42/50, Loss: 0.7177364194783202\n",
      "Epoch 43/50, Loss: 0.711783715434597\n",
      "Epoch 44/50, Loss: 0.7097153176537998\n",
      "Epoch 45/50, Loss: 0.7164525586694931\n",
      "Epoch 46/50, Loss: 0.7225551144835634\n",
      "Epoch 47/50, Loss: 0.7114683648854111\n",
      "Epoch 48/50, Loss: 0.7119548214451865\n",
      "Epoch 49/50, Loss: 0.7144645469041938\n",
      "Epoch 50/50, Loss: 0.7195246303820423\n"
     ]
    }
   ],
   "source": [
    "from SimpleNN import SimpleNN\n",
    "\n",
    "# Initialize the model, loss function, and optimizer\n",
    "input_size = word2vec_model.vector_size\n",
    "num_classes = len(df['label'].unique())\n",
    "model = SimpleNN(input_size, 128, 3, num_classes)\n",
    "criterion = nn.CrossEntropyLoss()\n",
    "optimizer = torch.optim.AdamW(model.parameters(), lr=0.001)\n",
    "\n",
    "# Training loop\n",
    "num_epochs = 50\n",
    "device = torch.device(\"cuda\") if torch.cuda.is_available() else torch.device(\"cpu\")\n",
    "print(device)\n",
    "model.to(device)\n",
    "best_loss = float('inf')\n",
    "\n",
    "for epoch in range(num_epochs):\n",
    "    model.train()\n",
    "    for batch in train_dataloader:\n",
    "        inputs, labels = batch\n",
    "        inputs, labels = inputs.to(device), labels.to(device)\n",
    "\n",
    "        # Forward pass\n",
    "        outputs = model(inputs)\n",
    "        loss = criterion(outputs, labels)\n",
    "        # Backward pass and optimization\n",
    "        optimizer.zero_grad()\n",
    "        loss.backward()\n",
    "        optimizer.step()\n",
    "    # Validation phase\n",
    "    model.eval()\n",
    "    val_loss = 0\n",
    "    with torch.no_grad():\n",
    "        for batch in val_dataloader:\n",
    "            inputs, labels = batch\n",
    "            inputs, labels = inputs.to(device), labels.to(device)\n",
    "            outputs = model(inputs)\n",
    "            loss = criterion(outputs, labels)\n",
    "            val_loss += loss.item()\n",
    "\n",
    "    val_loss /= len(val_dataloader)\n",
    "    \n",
    "    print(f\"Epoch {epoch+1}/{num_epochs}, Loss: {val_loss}\")\n",
    "    \n",
    "    if val_loss < best_loss:\n",
    "        best_loss = val_loss\n",
    "        save_checkpoint({\n",
    "            'epoch': epoch + 1,\n",
    "            'state_dict': model.state_dict(),\n",
    "            'optimizer': optimizer.state_dict(),\n",
    "            'best_loss': best_loss,\n",
    "        }, filename=\"best_model.pth.tar\")"
   ]
  },
  {
   "cell_type": "markdown",
   "metadata": {},
   "source": [
    "Save pretrained model to storage"
   ]
  },
  {
   "cell_type": "code",
   "execution_count": 47,
   "metadata": {},
   "outputs": [],
   "source": [
    "def load_checkpoint(filepath):\n",
    "    checkpoint = torch.load(filepath)\n",
    "    model = SimpleNN(input_size, 128, 3, num_classes)\n",
    "    model.load_state_dict(checkpoint['state_dict'])\n",
    "    \n",
    "    optimizer = torch.optim.Adam(model.parameters(), lr=0.001)\n",
    "    optimizer.load_state_dict(checkpoint['optimizer'])\n",
    "    \n",
    "    epoch = checkpoint['epoch']\n",
    "    best_loss = checkpoint['best_loss']\n",
    "    \n",
    "    return model, optimizer, epoch, best_loss"
   ]
  },
  {
   "cell_type": "code",
   "execution_count": 48,
   "metadata": {},
   "outputs": [
    {
     "name": "stdout",
     "output_type": "stream",
     "text": [
      "0.7097153176537998\n"
     ]
    },
    {
     "name": "stderr",
     "output_type": "stream",
     "text": [
      "C:\\Users\\henri\\AppData\\Local\\Temp\\ipykernel_30076\\1465232700.py:2: FutureWarning: You are using `torch.load` with `weights_only=False` (the current default value), which uses the default pickle module implicitly. It is possible to construct malicious pickle data which will execute arbitrary code during unpickling (See https://github.com/pytorch/pytorch/blob/main/SECURITY.md#untrusted-models for more details). In a future release, the default value for `weights_only` will be flipped to `True`. This limits the functions that could be executed during unpickling. Arbitrary objects will no longer be allowed to be loaded via this mode unless they are explicitly allowlisted by the user via `torch.serialization.add_safe_globals`. We recommend you start setting `weights_only=True` for any use case where you don't have full control of the loaded file. Please open an issue on GitHub for any issues related to this experimental feature.\n",
      "  checkpoint = torch.load(filepath)\n"
     ]
    }
   ],
   "source": [
    "model, optimizer, start_epoch, best_loss = load_checkpoint('best_model.pth.tar')\n",
    "print(best_loss)\n",
    "torch.save(model, \"pretrained_emotion_text_detector.pt\")"
   ]
  },
  {
   "cell_type": "markdown",
   "metadata": {},
   "source": [
    "Draw model graphic"
   ]
  },
  {
   "cell_type": "code",
   "execution_count": 49,
   "metadata": {},
   "outputs": [
    {
     "data": {
      "text/plain": [
       "'model_visualization.png'"
      ]
     },
     "execution_count": 49,
     "metadata": {},
     "output_type": "execute_result"
    }
   ],
   "source": [
    "from torchviz import make_dot\n",
    "model.to(device)\n",
    "\n",
    "# Create a dummy input tensor and move it to the same device as the model\n",
    "dummy_input = torch.randn(1, input_size).to(device)\n",
    "\n",
    "# Forward pass to get the computational graph\n",
    "output = model(dummy_input)\n",
    "\n",
    "# Visualize the model\n",
    "dot = make_dot(output, params=dict(model.named_parameters()))\n",
    "dot.format = 'png'\n",
    "dot.render('model_visualization')"
   ]
  },
  {
   "cell_type": "code",
   "execution_count": 50,
   "metadata": {},
   "outputs": [
    {
     "name": "stdout",
     "output_type": "stream",
     "text": [
      "tensor([[ 0.3545, -0.3080, -2.0409,  2.5661, -0.0327, -3.7139]],\n",
      "       device='cuda:0')\n"
     ]
    }
   ],
   "source": [
    "sentence = \"I am mad at you\"\n",
    "\n",
    "vec = sentence_to_vector(sentence=sentence, model=word2vec_model)\n",
    "model.to(device)\n",
    "model.eval()\n",
    "input = torch.tensor(vec).unsqueeze(0).to(device)\n",
    "\n",
    "with torch.no_grad():\n",
    "    pred = model(input)\n",
    "\n",
    "print(pred)"
   ]
  },
  {
   "cell_type": "code",
   "execution_count": 51,
   "metadata": {},
   "outputs": [
    {
     "name": "stdout",
     "output_type": "stream",
     "text": [
      "Predicted label: Anger\n"
     ]
    }
   ],
   "source": [
    "import torch.nn.functional as F\n",
    "# Assuming pred is the raw output from your model\n",
    "# Apply softmax to get probabilities\n",
    "probabilities = F.softmax(pred, dim=1)\n",
    "\n",
    "# Get the index of the highest probability\n",
    "predicted_class_idx = torch.argmax(probabilities, dim=1).item()\n",
    "\n",
    "# Define your label mapping\n",
    "label_mapping = {0: 'Sadness', 1: 'Joy', 2: 'Love', 3: 'Anger', 4: 'Fear', 5: 'Surprise'}\n",
    "\n",
    "# Map the predicted index to the corresponding label\n",
    "predicted_label = label_mapping[predicted_class_idx]\n",
    "\n",
    "print(f'Predicted label: {predicted_label}')"
   ]
  },
  {
   "cell_type": "code",
   "execution_count": 52,
   "metadata": {},
   "outputs": [],
   "source": [
    "word2vec_model.save('word2vec.model')"
   ]
  }
 ],
 "metadata": {
  "kernelspec": {
   "display_name": "nlp_project",
   "language": "python",
   "name": "python3"
  },
  "language_info": {
   "codemirror_mode": {
    "name": "ipython",
    "version": 3
   },
   "file_extension": ".py",
   "mimetype": "text/x-python",
   "name": "python",
   "nbconvert_exporter": "python",
   "pygments_lexer": "ipython3",
   "version": "3.11.0"
  }
 },
 "nbformat": 4,
 "nbformat_minor": 2
}
